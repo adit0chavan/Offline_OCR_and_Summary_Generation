{
 "cells": [
  {
   "cell_type": "code",
   "execution_count": null,
   "metadata": {},
   "outputs": [],
   "source": [
    "import cv2\n",
    "import typing\n",
    "import numpy as np\n",
    "\n",
    "from mltu.inferenceModel import OnnxInferenceModel\n",
    "from mltu.utils.text_utils import ctc_decoder, get_cer, get_wer\n",
    "from mltu.transformers import ImageResizer\n",
    "\n",
    "class ImageToWordModel(OnnxInferenceModel):\n",
    "    def __init__(self, char_list: typing.Union[str, list], *args, **kwargs):\n",
    "        super().__init__(*args, **kwargs)\n",
    "        self.char_list = char_list\n",
    "\n",
    "    def predict(self, image: np.ndarray):\n",
    "        image = ImageResizer.resize_maintaining_aspect_ratio(image, *self.input_shapes[0][1:3][::-1])\n",
    "\n",
    "        image_pred = np.expand_dims(image, axis=0).astype(np.float32)\n",
    "\n",
    "        preds = self.model.run(self.output_names, {self.input_names[0]: image_pred})[0]\n",
    "\n",
    "        text = ctc_decoder(preds, self.char_list)[0]\n",
    "\n",
    "        return text\n",
    "\n",
    "if __name__ == \"__main__\":\n",
    "    import pandas as pd\n",
    "    from tqdm import tqdm\n",
    "    from mltu.configs import BaseModelConfigs\n",
    "\n",
    "    configs = BaseModelConfigs.load(\"/mnt/c/Users/baldo/OneDrive - MSFT/Desktop/L&T Neurohack Silver/HandWritten Text Detection/Models/04_sentence_recognition/202410191426/configs.yaml\")\n",
    "\n",
    "    model = ImageToWordModel(model_path=configs.model_path, char_list=configs.vocab)\n",
    "\n",
    "    df = pd.read_csv(\"Models/04_sentence_recognition/202301131202/val.csv\").values.tolist()\n",
    "\n",
    "    accum_cer, accum_wer = [], []\n",
    "    for image_path, label in tqdm(df):\n",
    "        image = cv2.imread(image_path.replace(\"\\\\\", \"/\"))\n",
    "\n",
    "        prediction_text = model.predict(image)\n",
    "\n",
    "        cer = get_cer(prediction_text, label)\n",
    "        wer = get_wer(prediction_text, label)\n",
    "        print(\"Image: \", image_path)\n",
    "        print(\"Label:\", label)\n",
    "        print(\"Prediction: \", prediction_text)\n",
    "        print(f\"CER: {cer}; WER: {wer}\")\n",
    "\n",
    "        accum_cer.append(cer)\n",
    "        accum_wer.append(wer)\n",
    "\n",
    "        cv2.imshow(prediction_text, image)\n",
    "        cv2.waitKey(0)\n",
    "        cv2.destroyAllWindows()\n",
    "\n",
    "    print(f\"Average CER: {np.average(accum_cer)}, Average WER: {np.average(accum_wer)}\")"
   ]
  }
 ],
 "metadata": {
  "kernelspec": {
   "display_name": "Try",
   "language": "python",
   "name": "python3"
  },
  "language_info": {
   "codemirror_mode": {
    "name": "ipython",
    "version": 3
   },
   "file_extension": ".py",
   "mimetype": "text/x-python",
   "name": "python",
   "nbconvert_exporter": "python",
   "pygments_lexer": "ipython3",
   "version": "3.9.20"
  }
 },
 "nbformat": 4,
 "nbformat_minor": 2
}
